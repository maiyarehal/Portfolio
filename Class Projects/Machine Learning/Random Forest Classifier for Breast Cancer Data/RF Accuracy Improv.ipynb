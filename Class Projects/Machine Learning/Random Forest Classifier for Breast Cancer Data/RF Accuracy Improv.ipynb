{
 "cells": [
  {
   "cell_type": "markdown",
   "metadata": {},
   "source": [
    "# Homework 5 RF Accuracy Improvement\n",
    "\n",
    "This assignment is inspired by examples of Shan-Hung Wu from National Tsing Hua University.\n",
    "\n",
    "Requirement: improve the accuracy per feature of the following code from 0.03 up to at least 0.45 and accuracy should be more than 0.92\n",
    "\n",
    "Here are three hints:\n",
    "\n",
    "    You can improve the ratio by picking out or \"creating\" several features.\n",
    "    Tune hyperparameters\n",
    "    The ratio can be improved from 0.03 up to 0.47."
   ]
  },
  {
   "cell_type": "code",
   "execution_count": null,
   "metadata": {},
   "outputs": [
    {
     "name": "stdout",
     "output_type": "stream",
     "text": [
      "(569, 30)\n",
      "Accuracy: 0.95\n",
      "Accuracy per feature: 0.47\n"
     ]
    }
   ],
   "source": [
    "from sklearn.model_selection import RandomizedSearchCV, cross_val_score\n",
    "from sklearn.datasets import load_breast_cancer\n",
    "from sklearn.ensemble import RandomForestClassifier\n",
    "import pandas as pd\n",
    "import numpy as np\n",
    "\n",
    "# load the breast_cancer dataset\n",
    "init_data = load_breast_cancer()\n",
    "(X, y) = load_breast_cancer(return_X_y=True)\n",
    "\n",
    "\n",
    "#Build dataframe\n",
    "df = pd.DataFrame(X, columns=init_data.feature_names)\n",
    "\n",
    "#Build correlation matrix to determine best features\n",
    "corr_matrix = df.corrwith(pd.Series(y)).abs()\n",
    "\n",
    "#Grab the top 2 features\n",
    "features = corr_matrix.sort_values(ascending=False)[:2]\n",
    "\n",
    "print(f\"Features used for model: {list(features.index)}\")\n",
    "\n",
    "#Get the index values of the top 2 features\n",
    "indices = []\n",
    "for feat in features.index:\n",
    "    indices.append(init_data.feature_names.tolist().index(feat))          \n",
    "sel_features = X[:, indices]\n",
    "\n",
    "#Build forest model\n",
    "model = RandomForestClassifier(random_state=0)\n",
    "\n",
    "#Parameters to hypertune\n",
    "param_dist = {\n",
    "    'n_estimators': list(range(50, 501, 50)),              \n",
    "    'max_depth': [None, 10, 20, 30],                  \n",
    "    'min_samples_split': [2, 5, 10, 20, 50],                  \n",
    "    'min_samples_leaf': [1, 2, 4, 6, 8]      \n",
    "}\n",
    "\n",
    "#Use Randomized Search to hypertune parameters with 5 folds\n",
    "search = RandomizedSearchCV(estimator=model, param_distributions=param_dist, n_iter=10, cv=5, scoring='accuracy', random_state=0)\n",
    "\n",
    "search.fit(sel_features, y)\n",
    "\n",
    "#Build model with best parameters\n",
    "model = RandomForestClassifier(**search.best_params_, random_state=0)\n",
    "\n",
    "print(f\"Parameters used for RandomForestClassifier: {search.best_params_}\")\n",
    "\n",
    "#Train model with the top selected features and outputs\n",
    "model.fit(sel_features, y)\n",
    "\n",
    "# TODO Calculate Average accuracy score\n",
    "cv_scores = cross_val_score(model, sel_features, y, cv=5, scoring='accuracy')\n",
    "average_accuracy = np.mean(cv_scores)\n",
    "\n",
    "# TODO Calculate Average (accuracy score/number of features)\n",
    "num_features = sel_features.shape[1]\n",
    "accuracy_per_feature = average_accuracy / num_features\n",
    "\n",
    "# Print results\n",
    "print(f\"Average Accuracy: {average_accuracy:.4f}\")\n",
    "print(f\"Accuracy per Feature: {accuracy_per_feature:.4f}\")\n"
   ]
  },
  {
   "cell_type": "code",
   "execution_count": null,
   "metadata": {},
   "outputs": [],
   "source": []
  }
 ],
 "metadata": {
  "kernelspec": {
   "display_name": "Python 3",
   "language": "python",
   "name": "python3"
  },
  "language_info": {
   "codemirror_mode": {
    "name": "ipython",
    "version": 3
   },
   "file_extension": ".py",
   "mimetype": "text/x-python",
   "name": "python",
   "nbconvert_exporter": "python",
   "pygments_lexer": "ipython3",
   "version": "3.8.5"
  }
 },
 "nbformat": 4,
 "nbformat_minor": 2
}
